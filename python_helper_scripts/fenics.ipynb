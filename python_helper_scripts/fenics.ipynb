{
 "cells": [
  {
   "cell_type": "code",
   "execution_count": 39,
   "metadata": {},
   "outputs": [],
   "source": [
    "from dolfin import *\n",
    "from mshr import *\n",
    "import numpy as np\n",
    "import matplotlib.pyplot as plt\n",
    "from datetime import datetime\n",
    "\n"
   ]
  },
  {
   "cell_type": "code",
   "execution_count": 41,
   "metadata": {},
   "outputs": [
    {
     "ename": "AttributeError",
     "evalue": "module 'dolfin.cpp.mesh' has no attribute 'CircleMesh'",
     "output_type": "error",
     "traceback": [
      "\u001b[0;31m---------------------------------------------------------------------------\u001b[0m",
      "\u001b[0;31mAttributeError\u001b[0m                            Traceback (most recent call last)",
      "\u001b[1;32m/home/derick/Documents/EIT/Mine/fenics.ipynb Cell 2\u001b[0m in \u001b[0;36m<cell line: 2>\u001b[0;34m()\u001b[0m\n\u001b[1;32m      <a href='vscode-notebook-cell://ssh-remote%2Bztm-cluster/home/derick/Documents/EIT/Mine/fenics.ipynb#W1sdnNjb2RlLXJlbW90ZQ%3D%3D?line=0'>1</a>\u001b[0m \u001b[39m# Create a mesh using FEniCS\u001b[39;00m\n\u001b[0;32m----> <a href='vscode-notebook-cell://ssh-remote%2Bztm-cluster/home/derick/Documents/EIT/Mine/fenics.ipynb#W1sdnNjb2RlLXJlbW90ZQ%3D%3D?line=1'>2</a>\u001b[0m mesh \u001b[39m=\u001b[39m dolfin\u001b[39m.\u001b[39;49mcpp\u001b[39m.\u001b[39;49mmesh\u001b[39m.\u001b[39;49mCircleMesh(Point(\u001b[39m0\u001b[39m, \u001b[39m0\u001b[39m), \u001b[39m1\u001b[39m, \u001b[39m0.03\u001b[39m) \u001b[39m#generate_mesh(Circle(Point(0, 0), 0.03), 32)\u001b[39;00m\n\u001b[1;32m      <a href='vscode-notebook-cell://ssh-remote%2Bztm-cluster/home/derick/Documents/EIT/Mine/fenics.ipynb#W1sdnNjb2RlLXJlbW90ZQ%3D%3D?line=2'>3</a>\u001b[0m \u001b[39mprint\u001b[39m(mesh)\n\u001b[1;32m      <a href='vscode-notebook-cell://ssh-remote%2Bztm-cluster/home/derick/Documents/EIT/Mine/fenics.ipynb#W1sdnNjb2RlLXJlbW90ZQ%3D%3D?line=4'>5</a>\u001b[0m \u001b[39m# Save the mesh to a file\u001b[39;00m\n",
      "\u001b[0;31mAttributeError\u001b[0m: module 'dolfin.cpp.mesh' has no attribute 'CircleMesh'"
     ]
    }
   ],
   "source": [
    "# Create a mesh using FEniCS\n",
    "mesh = generate_mesh(Circle(Point(0, 0), 0.03), 32)\n",
    "print(mesh)\n",
    "\n",
    "# Save the mesh to a file\n",
    "file = File(\"mesh.xml.gz\")\n",
    "file << mesh\n",
    "\n",
    "# Plot the mesh using matplotlib\n",
    "plot(mesh, title=\"Mesh\")\n",
    "plt.axis(\"equal\")\n",
    "#plt.axis(\"off\")\n",
    "plt.title(\"Mesh\")\n",
    "plt.show()"
   ]
  },
  {
   "cell_type": "code",
   "execution_count": 42,
   "metadata": {},
   "outputs": [
    {
     "data": {
      "text/plain": [
       "<module 'dolfin.mesh' from '/home/derick/miniconda3/lib/python3.8/site-packages/dolfin/mesh/__init__.py'>"
      ]
     },
     "execution_count": 42,
     "metadata": {},
     "output_type": "execute_result"
    }
   ],
   "source": [
    "mesh"
   ]
  },
  {
   "cell_type": "code",
   "execution_count": 43,
   "metadata": {},
   "outputs": [
    {
     "data": {
      "text/plain": [
       "9"
      ]
     },
     "execution_count": 43,
     "metadata": {},
     "output_type": "execute_result"
    }
   ],
   "source": [
    "import numpy as np\n",
    "import matplotlib.pyplot as plt\n",
    "import matplotlib.tri as mtri\n",
    "from datetime import datetime\n",
    "import scipy.io\n",
    "import meshio\n",
    "\n",
    "\n",
    "mesh   = scipy.io.loadmat('/pvfs2/Derick/EIT/Mine/data/100_samples__max_Inclusions_3__2023-07-29-14-39-04/mesh_pet.mat')\n",
    "p = mesh['p']\n",
    "e = mesh['e']\n",
    "t = mesh['t']\n",
    "x, y = p[0].flatten()[1:10], p[1].flatten()[1:10]\n",
    "\n",
    "number = np.shape(x)[0]\n",
    "number"
   ]
  },
  {
   "cell_type": "code",
   "execution_count": 44,
   "metadata": {},
   "outputs": [],
   "source": [
    "# domain_vertices = []\n",
    "\n",
    "# for i in range(5):#(number):\n",
    "#         #print(x[i])\n",
    "#         domain_vertices.append(Point(x[i], y[i]))\n",
    "\n",
    "# domain = Circle(domain_vertices)\n",
    "# print(domain)"
   ]
  },
  {
   "cell_type": "code",
   "execution_count": 45,
   "metadata": {},
   "outputs": [],
   "source": [
    "# mesh = generate_mesh(domain, 0.03)\n",
    "# plot(mesh)#, interactive=True)"
   ]
  },
  {
   "cell_type": "code",
   "execution_count": 46,
   "metadata": {},
   "outputs": [
    {
     "name": "stdout",
     "output_type": "stream",
     "text": [
      "<mshr.cpp.Polygon object at 0x7f8af5db0330>\n"
     ]
    },
    {
     "data": {
      "image/png": "[encoded data removed]",
      "text/plain": [
       "<Figure size 432x288 with 1 Axes>"
      ]
     },
     "metadata": {
      "needs_background": "light"
     },
     "output_type": "display_data"
    }
   ],
   "source": [
    "from dolfin import *\n",
    "from mshr import Polygon, generate_mesh\n",
    "import matplotlib.pyplot as plt\n",
    "\n",
    "domain = Polygon([Point(1,0),Point(0.75,0.75),Point(0,1),Point(0.25,0.25)])\n",
    "print(domain)\n",
    "mesh = generate_mesh(domain,3)\n",
    "\n",
    "plot(mesh)\n",
    "plt.show()"
   ]
  }
 ],
 "metadata": {
  "kernelspec": {
   "display_name": "base",
   "language": "python",
   "name": "python3"
  },
  "language_info": {
   "codemirror_mode": {
    "name": "ipython",
    "version": 3
   },
   "file_extension": ".py",
   "mimetype": "text/x-python",
   "name": "python",
   "nbconvert_exporter": "python",
   "pygments_lexer": "ipython3",
   "version": "3.8.5"
  },
  "orig_nbformat": 4
 },
 "nbformat": 4,
 "nbformat_minor": 2
}
